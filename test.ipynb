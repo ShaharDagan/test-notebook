{
 "cells": [
  {
   "cell_type": "code",
   "execution_count": null,
   "id": "571ad6d5-d2e4-4730-9b9a-31dce38c9d31",
   "metadata": {},
   "outputs": [],
   "source": [
    "print(\"test\")"
   ]
  },
  {
   "cell_type": "code",
   "execution_count": null,
   "id": "becfd912-a0e8-4efa-9b53-6b46eefba213",
   "metadata": {},
   "outputs": [],
   "source": [
    "print('test2')"
   ]
  },
  {
   "cell_type": "code",
   "execution_count": 1,
   "id": "a0d60421-e037-48d3-921b-b7a07b260171",
   "metadata": {
    "execution": {
     "iopub.execute_input": "2024-06-26T19:52:34.185602Z",
     "iopub.status.busy": "2024-06-26T19:52:34.185298Z",
     "iopub.status.idle": "2024-06-26T19:52:34.191933Z",
     "shell.execute_reply": "2024-06-26T19:52:34.191435Z",
     "shell.execute_reply.started": "2024-06-26T19:52:34.185567Z"
    }
   },
   "outputs": [
    {
     "name": "stdout",
     "output_type": "stream",
     "text": [
      "test3\n"
     ]
    }
   ],
   "source": [
    "print(\"test3\")"
   ]
  },
  {
   "cell_type": "code",
   "execution_count": null,
   "id": "3cb384a9-88f8-4275-ba31-67f551d32e02",
   "metadata": {},
   "outputs": [],
   "source": [
    "!pip install nbgitpuller"
   ]
  },
  {
   "cell_type": "code",
   "execution_count": null,
   "id": "7fa87424-63ba-4c13-b30f-dc13e33fceb0",
   "metadata": {},
   "outputs": [],
   "source": []
  }
 ],
 "metadata": {
  "kernelspec": {
   "display_name": "Python 3 (ipykernel)",
   "language": "python",
   "name": "python3"
  },
  "language_info": {
   "codemirror_mode": {
    "name": "ipython",
    "version": 3
   },
   "file_extension": ".py",
   "mimetype": "text/x-python",
   "name": "python",
   "nbconvert_exporter": "python",
   "pygments_lexer": "ipython3",
   "version": "3.8.0"
  }
 },
 "nbformat": 4,
 "nbformat_minor": 5
}
